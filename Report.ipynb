{
 "cells": [
  {
   "cell_type": "markdown",
   "metadata": {},
   "source": [
    "# Continuous Control\n",
    "\n",
    "---\n",
    "\n",
    "In this notebook, you will learn how to use the Unity ML-Agents environment for the second project of the [Deep Reinforcement Learning Nanodegree](https://www.udacity.com/course/deep-reinforcement-learning-nanodegree--nd893) program.\n",
    "\n",
    "### 1. Start the Environment\n",
    "\n",
    "We begin by importing the necessary packages.  If the code cell below returns an error, please revisit the project instructions to double-check that you have installed [Unity ML-Agents](https://github.com/Unity-Technologies/ml-agents/blob/master/docs/Installation.md) and [NumPy](http://www.numpy.org/)."
   ]
  },
  {
   "cell_type": "code",
   "execution_count": 1,
   "metadata": {},
   "outputs": [],
   "source": [
    "from unityagents import UnityEnvironment\n",
    "import numpy as np\n",
    "from train_runner import TrainRunner\n",
    "from test_runner import TestRunner\n",
    "from plots import Plots"
   ]
  },
  {
   "cell_type": "markdown",
   "metadata": {},
   "source": [
    "Next, we will start the environment!  **_Before running the code cell below_**, change the `file_name` parameter to match the location of the Unity environment that you downloaded.\n",
    "\n",
    "- **Mac**: `\"path/to/Reacher.app\"`\n",
    "- **Windows** (x86): `\"path/to/Reacher_Windows_x86/Reacher.exe\"`\n",
    "- **Windows** (x86_64): `\"path/to/Reacher_Windows_x86_64/Reacher.exe\"`\n",
    "- **Linux** (x86): `\"path/to/Reacher_Linux/Reacher.x86\"`\n",
    "- **Linux** (x86_64): `\"path/to/Reacher_Linux/Reacher.x86_64\"`\n",
    "- **Linux** (x86, headless): `\"path/to/Reacher_Linux_NoVis/Reacher.x86\"`\n",
    "- **Linux** (x86_64, headless): `\"path/to/Reacher_Linux_NoVis/Reacher.x86_64\"`\n",
    "\n",
    "For instance, if you are using a Mac, then you downloaded `Reacher.app`.  If this file is in the same folder as the notebook, then the line below should appear as follows:\n",
    "```\n",
    "env = UnityEnvironment(file_name=\"Reacher.app\")\n",
    "```"
   ]
  },
  {
   "cell_type": "code",
   "execution_count": 2,
   "metadata": {},
   "outputs": [
    {
     "name": "stderr",
     "output_type": "stream",
     "text": [
      "INFO:unityagents:\n",
      "'Academy' started successfully!\n",
      "Unity Academy name: Academy\n",
      "        Number of Brains: 1\n",
      "        Number of External Brains : 1\n",
      "        Lesson number : 0\n",
      "        Reset Parameters :\n",
      "\t\tgoal_speed -> 1.0\n",
      "\t\tgoal_size -> 5.0\n",
      "Unity brain name: ReacherBrain\n",
      "        Number of Visual Observations (per agent): 0\n",
      "        Vector Observation space type: continuous\n",
      "        Vector Observation space size (per agent): 33\n",
      "        Number of stacked Vector Observation: 1\n",
      "        Vector Action space type: continuous\n",
      "        Vector Action space size (per agent): 4\n",
      "        Vector Action descriptions: , , , \n"
     ]
    }
   ],
   "source": [
    "env = UnityEnvironment(file_name='./reacher/Reacher_Linux/Reacher.x86_64')"
   ]
  },
  {
   "cell_type": "markdown",
   "metadata": {},
   "source": [
    "Environments contain **_brains_** which are responsible for deciding the actions of their associated agents. Here we check for the first brain available, and set it as the default brain we will be controlling from Python."
   ]
  },
  {
   "cell_type": "code",
   "execution_count": 3,
   "metadata": {},
   "outputs": [],
   "source": [
    "# get the default brain\n",
    "brain_name = env.brain_names[0]\n",
    "brain = env.brains[brain_name]"
   ]
  },
  {
   "cell_type": "markdown",
   "metadata": {},
   "source": [
    "### 2. Examine the State and Action Spaces\n",
    "\n",
    "In this environment, a double-jointed arm can move to target locations. A reward of `+0.1` is provided for each step that the agent's hand is in the goal location. Thus, the goal of your agent is to maintain its position at the target location for as many time steps as possible.\n",
    "\n",
    "The observation space consists of `33` variables corresponding to position, rotation, velocity, and angular velocities of the arm.  Each action is a vector with four numbers, corresponding to torque applicable to two joints.  Every entry in the action vector must be a number between `-1` and `1`.\n",
    "\n",
    "Run the code cell below to print some information about the environment."
   ]
  },
  {
   "cell_type": "code",
   "execution_count": 4,
   "metadata": {},
   "outputs": [
    {
     "name": "stdout",
     "output_type": "stream",
     "text": [
      "Number of agents: 1\n",
      "Size of each action: 4\n",
      "There are 1 agents. Each observes a state with length: 33\n",
      "The state for the first agent looks like: [ 0.00000000e+00 -4.00000000e+00  0.00000000e+00  1.00000000e+00\n",
      " -0.00000000e+00 -0.00000000e+00 -4.37113883e-08  0.00000000e+00\n",
      "  0.00000000e+00  0.00000000e+00  0.00000000e+00  0.00000000e+00\n",
      "  0.00000000e+00  0.00000000e+00 -1.00000000e+01  0.00000000e+00\n",
      "  1.00000000e+00 -0.00000000e+00 -0.00000000e+00 -4.37113883e-08\n",
      "  0.00000000e+00  0.00000000e+00  0.00000000e+00  0.00000000e+00\n",
      "  0.00000000e+00  0.00000000e+00  5.75471878e+00 -1.00000000e+00\n",
      "  5.55726671e+00  0.00000000e+00  1.00000000e+00  0.00000000e+00\n",
      " -1.68164849e-01]\n"
     ]
    }
   ],
   "source": [
    "# reset the environment\n",
    "env_info = env.reset(train_mode=True)[brain_name]\n",
    "\n",
    "# number of agents\n",
    "num_agents = len(env_info.agents)\n",
    "print('Number of agents:', num_agents)\n",
    "\n",
    "# size of each action\n",
    "action_size = brain.vector_action_space_size\n",
    "print('Size of each action:', action_size)\n",
    "\n",
    "# examine the state space \n",
    "states = env_info.vector_observations\n",
    "state_size = states.shape[1]\n",
    "print('There are {} agents. Each observes a state with length: {}'.format(states.shape[0], state_size))\n",
    "print('The state for the first agent looks like:', states[0])"
   ]
  },
  {
   "cell_type": "markdown",
   "metadata": {},
   "source": [
    "### 3. Take Random Actions in the Environment\n",
    "\n",
    "In the next code cell, you will learn how to use the Python API to control the agent and receive feedback from the environment.\n",
    "\n",
    "Once this cell is executed, you will watch the agent's performance, if it selects an action at random with each time step.  A window should pop up that allows you to observe the agent, as it moves through the environment.  \n",
    "\n",
    "Of course, as part of the project, you'll have to change the code so that the agent is able to use its experience to gradually choose better actions when interacting with the environment!"
   ]
  },
  {
   "cell_type": "code",
   "execution_count": 5,
   "metadata": {},
   "outputs": [
    {
     "name": "stdout",
     "output_type": "stream",
     "text": [
      "Total score (averaged over agents) this episode: 0.29999999329447746\n"
     ]
    }
   ],
   "source": [
    "env_info = env.reset(train_mode=False)[brain_name]     # reset the environment    \n",
    "states = env_info.vector_observations                  # get the current state (for each agent)\n",
    "scores = np.zeros(num_agents)                          # initialize the score (for each agent)\n",
    "while True:\n",
    "    actions = np.random.randn(num_agents, action_size) # select an action (for each agent)\n",
    "    actions = np.clip(actions, -1, 1)                  # all actions between -1 and 1\n",
    "    env_info = env.step(actions)[brain_name]           # send all actions to tne environment\n",
    "    next_states = env_info.vector_observations         # get next state (for each agent)\n",
    "    rewards = env_info.rewards                         # get reward (for each agent)\n",
    "    dones = env_info.local_done                        # see if episode finished\n",
    "    scores += env_info.rewards                         # update the score (for each agent)\n",
    "    states = next_states                               # roll over states to next time step\n",
    "    if np.any(dones):                                  # exit loop if episode finished\n",
    "        break\n",
    "print('Total score (averaged over agents) this episode: {}'.format(np.mean(scores)))"
   ]
  },
  {
   "cell_type": "markdown",
   "metadata": {},
   "source": [
    "When finished, you can close the environment."
   ]
  },
  {
   "cell_type": "code",
   "execution_count": 6,
   "metadata": {},
   "outputs": [],
   "source": [
    "env.close()"
   ]
  },
  {
   "cell_type": "markdown",
   "metadata": {},
   "source": [
    "### 4. It's Your Turn!\n",
    "\n",
    "Now it's your turn to train your own agent to solve the environment!  When training the environment, set `train_mode=True`, so that the line for resetting the environment looks like the following:\n",
    "```python\n",
    "env_info = env.reset(train_mode=True)[brain_name]\n",
    "```"
   ]
  },
  {
   "cell_type": "markdown",
   "metadata": {},
   "source": [
    "### 5. Training Agent"
   ]
  },
  {
   "cell_type": "markdown",
   "metadata": {},
   "source": [
    "To train the agent we are going to run the python class `TrainRunner` from `train.py`. The `TrainRunner` will train the network and save it to file `checkpoint.pt` (later on we will be able to test the agent) "
   ]
  },
  {
   "cell_type": "code",
   "execution_count": 2,
   "metadata": {},
   "outputs": [
    {
     "name": "stderr",
     "output_type": "stream",
     "text": [
      "INFO:unityagents:\n",
      "'Academy' started successfully!\n",
      "Unity Academy name: Academy\n",
      "        Number of Brains: 1\n",
      "        Number of External Brains : 1\n",
      "        Lesson number : 0\n",
      "        Reset Parameters :\n",
      "\t\tgoal_speed -> 1.0\n",
      "\t\tgoal_size -> 5.0\n",
      "Unity brain name: ReacherBrain\n",
      "        Number of Visual Observations (per agent): 0\n",
      "        Vector Observation space type: continuous\n",
      "        Vector Observation space size (per agent): 33\n",
      "        Number of stacked Vector Observation: 1\n",
      "        Vector Action space type: continuous\n",
      "        Vector Action space size (per agent): 4\n",
      "        Vector Action descriptions: , , , \n"
     ]
    },
    {
     "name": "stdout",
     "output_type": "stream",
     "text": [
      "Episode 10\tAverage Score: 0.88\n",
      "Episode 20\tAverage Score: 1.08\n",
      "Episode 30\tAverage Score: 1.24\n",
      "Episode 40\tAverage Score: 1.53\n",
      "Episode 50\tAverage Score: 1.96\n",
      "Episode 60\tAverage Score: 2.40\n",
      "Episode 70\tAverage Score: 3.29\n",
      "Episode 80\tAverage Score: 3.82\n",
      "Episode 90\tAverage Score: 4.99\n",
      "Episode 100\tAverage Score: 6.06\n",
      "Episode 110\tAverage Score: 7.67\n",
      "Episode 120\tAverage Score: 9.78\n",
      "Episode 130\tAverage Score: 12.19\n",
      "Episode 140\tAverage Score: 15.23\n",
      "Episode 150\tAverage Score: 18.15\n",
      "Episode 160\tAverage Score: 21.36\n",
      "Episode 170\tAverage Score: 24.27\n",
      "Episode 180\tAverage Score: 27.17\n",
      "Episode 190\tAverage Score: 29.52\n"
     ]
    }
   ],
   "source": [
    "trainer = TrainRunner(1, './reacher/Reacher_Linux/Reacher.x86_64', \"./reacher\")\n",
    "scores = trainer.run()\n",
    "trainer.close()"
   ]
  },
  {
   "cell_type": "markdown",
   "metadata": {},
   "source": [
    "### 6. Training Scores"
   ]
  },
  {
   "cell_type": "code",
   "execution_count": 3,
   "metadata": {},
   "outputs": [
    {
     "data": {
      "image/png": "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\n",
      "text/plain": [
       "<Figure size 432x288 with 1 Axes>"
      ]
     },
     "metadata": {
      "needs_background": "light"
     },
     "output_type": "display_data"
    }
   ],
   "source": [
    "Plots().plot_scores(scores)"
   ]
  },
  {
   "cell_type": "markdown",
   "metadata": {},
   "source": [
    "### 7. Testing the agent"
   ]
  },
  {
   "cell_type": "code",
   "execution_count": 3,
   "metadata": {},
   "outputs": [
    {
     "name": "stderr",
     "output_type": "stream",
     "text": [
      "INFO:unityagents:\n",
      "'Academy' started successfully!\n",
      "Unity Academy name: Academy\n",
      "        Number of Brains: 1\n",
      "        Number of External Brains : 1\n",
      "        Lesson number : 0\n",
      "        Reset Parameters :\n",
      "\t\tgoal_speed -> 1.0\n",
      "\t\tgoal_size -> 5.0\n",
      "Unity brain name: ReacherBrain\n",
      "        Number of Visual Observations (per agent): 0\n",
      "        Vector Observation space type: continuous\n",
      "        Vector Observation space size (per agent): 33\n",
      "        Number of stacked Vector Observation: 1\n",
      "        Vector Action space type: continuous\n",
      "        Vector Action space size (per agent): 4\n",
      "        Vector Action descriptions: , , , \n"
     ]
    },
    {
     "name": "stdout",
     "output_type": "stream",
     "text": [
      "Episode 0 - Average Score: 36.27, StdDev: 0.0\n",
      "Episode 1 - Average Score: 36.11, StdDev: 0.15499999653548002\n",
      "Episode 2 - Average Score: 37.14, StdDev: 1.4550830120709513\n",
      "Episode 3 - Average Score: 37.15, StdDev: 1.2604066522289261\n",
      "Episode 4 - Average Score: 36.61, StdDev: 1.570902889959658\n",
      "Episode 5 - Average Score: 36.59, StdDev: 1.434824773339995\n",
      "Episode 6 - Average Score: 36.37, StdDev: 1.4304844014562392\n",
      "Episode 7 - Average Score: 35.72, StdDev: 2.1868294912310735\n",
      "Episode 8 - Average Score: 35.95, StdDev: 2.1680712910794977\n",
      "Episode 9 - Average Score: 36.06, StdDev: 2.081097980968364\n"
     ]
    }
   ],
   "source": [
    "TestRunner(1, \"./reacher/Reacher_Linux/Reacher.x86_64\", \"./reacher\").run()"
   ]
  },
  {
   "cell_type": "markdown",
   "metadata": {},
   "source": [
    "### 8. Implementation details"
   ]
  },
  {
   "cell_type": "markdown",
   "metadata": {},
   "source": [
    "The agent is implemented using DDPG algorithm with two deep networks - actor and critic. \n",
    "\n",
    "The actor is a policy network - it takes state and outputs actions. \n",
    "\n",
    "The critic network takes the state and action from actor and outputs Q value.\n",
    "\n",
    "In order to stabilize learning I've create local and target networks for both actor and critic. The soft update between local and target is executed 10 times every 20 steps (based on the description in \"Benchmark implementation\" section of the project).\n",
    "\n",
    "The exploration is done using random noise introduced into chosen action using Ornstein-Uhlenbeck process. The magnitude of exploration noise is continiously reduced to minimal value 0.01.\n",
    "\n",
    "The **Actor** network has the following layers:\n",
    "- Input - state\n",
    "- Linear - with 400 output feature\n",
    "- Batch Normalization\n",
    "- ReLU activation\n",
    "- Linear - with 300 output features\n",
    "- Batch Normalization\n",
    "- ReLU activation\n",
    "- Linear - with \"action size\" output features\n",
    "- Tahn activation\n",
    "\n",
    "The architecture of the network is given below:\n",
    "\n",
    "![ActorNetwork](./actor_network.png)\n",
    "\n",
    "The **Critic** network has the following layers:\n",
    "- Input - state\n",
    "- Linear - with 400 output features\n",
    "- Batch Normalization\n",
    "- ReLU activation\n",
    "- Linear - takes previous layer outputs and actions and outputs 300 features\n",
    "- Batch Normalization\n",
    "- ReLU activation\n",
    "- Linear - with 1 output feature - Q - value\n",
    "\n",
    "The architecture of the network is given below:\n",
    "\n",
    "![CriticNetwork](./critic_network.png)"
   ]
  },
  {
   "cell_type": "markdown",
   "metadata": {},
   "source": [
    "### 9. Hyperparameters"
   ]
  },
  {
   "cell_type": "code",
   "execution_count": 4,
   "metadata": {},
   "outputs": [],
   "source": [
    "BUFFER_SIZE = int(1e6)  # replay buffer size\n",
    "BATCH_SIZE = 256        # minibatch size\n",
    "GAMMA = 0.99            # discount factor\n",
    "TAU = 1e-3              # for soft update of target parameters\n",
    "LR_ACTOR = 5e-4         # learning rate of the actor\n",
    "LR_CRITIC = 5e-4        # learning rate of the critic\n",
    "WEIGHT_DECAY = 0        # L2 weight decay\n",
    "EPSILON = 1.0           # epsilon start\n",
    "UPDATE_EVERY = 20       # update every step"
   ]
  },
  {
   "cell_type": "markdown",
   "metadata": {},
   "source": [
    "### 10. Future Improvements"
   ]
  },
  {
   "cell_type": "markdown",
   "metadata": {},
    "- Replay buffer prioritization can help sampling the most important transitions\n",
   "source": [
    "- Using different approach like PPO or A2C\n"
  },
  {
   ]
   "cell_type": "code",
   "execution_count": null,
   "metadata": {},
   "outputs": [],
   "source": []
  }
 ],
 "metadata": {
  "kernelspec": {
   "display_name": "Python 3",
   "language": "python",
   "name": "python3"
  },
  "language_info": {
   "codemirror_mode": {
    "name": "ipython",
    "version": 3
   },
   "file_extension": ".py",
   "mimetype": "text/x-python",
   "name": "python",
   "nbconvert_exporter": "python",
   "pygments_lexer": "ipython3",
   "version": "3.6.12"
  }
 },
 "nbformat": 4,
 "nbformat_minor": 2
}
